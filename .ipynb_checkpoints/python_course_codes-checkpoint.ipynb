{
 "cells": [
  {
   "cell_type": "code",
   "execution_count": 1,
   "id": "65e89a97",
   "metadata": {},
   "outputs": [
    {
     "name": "stdout",
     "output_type": "stream",
     "text": [
      "hello world!\n"
     ]
    }
   ],
   "source": [
    "print(\"hello world!\")"
   ]
  },
  {
   "cell_type": "code",
   "execution_count": 2,
   "id": "967e08b2",
   "metadata": {
    "scrolled": true
   },
   "outputs": [],
   "source": [
    "ODD = {1:'One',3:'Three',5:'Five',7:'Seven',9:'Nine'}"
   ]
  },
  {
   "cell_type": "code",
   "execution_count": 3,
   "id": "29b903e7",
   "metadata": {},
   "outputs": [
    {
     "data": {
      "text/plain": [
       "{1: 'One', 3: 'Three', 5: 'Five', 7: 'Seven', 9: 'Nine'}"
      ]
     },
     "execution_count": 3,
     "metadata": {},
     "output_type": "execute_result"
    }
   ],
   "source": [
    "ODD"
   ]
  },
  {
   "cell_type": "code",
   "execution_count": 4,
   "id": "209da7db",
   "metadata": {},
   "outputs": [
    {
     "data": {
      "text/plain": [
       "dict_keys([1, 3, 5, 7, 9])"
      ]
     },
     "execution_count": 4,
     "metadata": {},
     "output_type": "execute_result"
    }
   ],
   "source": [
    "ODD.keys()"
   ]
  },
  {
   "cell_type": "code",
   "execution_count": 5,
   "id": "4fec2d8c",
   "metadata": {},
   "outputs": [
    {
     "data": {
      "text/plain": [
       "dict_values(['One', 'Three', 'Five', 'Seven', 'Nine'])"
      ]
     },
     "execution_count": 5,
     "metadata": {},
     "output_type": "execute_result"
    }
   ],
   "source": [
    "ODD.values()"
   ]
  },
  {
   "cell_type": "code",
   "execution_count": 6,
   "id": "61a75bfa",
   "metadata": {},
   "outputs": [
    {
     "data": {
      "text/plain": [
       "dict_items([(1, 'One'), (3, 'Three'), (5, 'Five'), (7, 'Seven'), (9, 'Nine')])"
      ]
     },
     "execution_count": 6,
     "metadata": {},
     "output_type": "execute_result"
    }
   ],
   "source": [
    "ODD.items()"
   ]
  },
  {
   "cell_type": "code",
   "execution_count": 7,
   "id": "46243cb1",
   "metadata": {},
   "outputs": [
    {
     "data": {
      "text/plain": [
       "5"
      ]
     },
     "execution_count": 7,
     "metadata": {},
     "output_type": "execute_result"
    }
   ],
   "source": [
    "len(ODD)"
   ]
  },
  {
   "cell_type": "code",
   "execution_count": 8,
   "id": "b7306a37",
   "metadata": {},
   "outputs": [
    {
     "data": {
      "text/plain": [
       "True"
      ]
     },
     "execution_count": 8,
     "metadata": {},
     "output_type": "execute_result"
    }
   ],
   "source": [
    "7 in ODD"
   ]
  },
  {
   "cell_type": "code",
   "execution_count": 9,
   "id": "ffa0dedd",
   "metadata": {},
   "outputs": [
    {
     "data": {
      "text/plain": [
       "False"
      ]
     },
     "execution_count": 9,
     "metadata": {},
     "output_type": "execute_result"
    }
   ],
   "source": [
    "2 in ODD"
   ]
  },
  {
   "cell_type": "code",
   "execution_count": 10,
   "id": "11fad0c8",
   "metadata": {},
   "outputs": [
    {
     "data": {
      "text/plain": [
       "'Nine'"
      ]
     },
     "execution_count": 10,
     "metadata": {},
     "output_type": "execute_result"
    }
   ],
   "source": [
    "ODD.get(9)"
   ]
  },
  {
   "cell_type": "code",
   "execution_count": 11,
   "id": "1b97f736",
   "metadata": {},
   "outputs": [
    {
     "ename": "SyntaxError",
     "evalue": "cannot delete function call (1804934045.py, line 1)",
     "output_type": "error",
     "traceback": [
      "\u001b[0;36m  Cell \u001b[0;32mIn[11], line 1\u001b[0;36m\u001b[0m\n\u001b[0;31m    del ODD(9)\u001b[0m\n\u001b[0m        ^\u001b[0m\n\u001b[0;31mSyntaxError\u001b[0m\u001b[0;31m:\u001b[0m cannot delete function call\n"
     ]
    }
   ],
   "source": [
    "del ODD(9)"
   ]
  },
  {
   "cell_type": "code",
   "execution_count": 12,
   "id": "9f622468",
   "metadata": {},
   "outputs": [
    {
     "data": {
      "text/plain": [
       "{1: 'One', 3: 'Three', 5: 'Five', 7: 'Seven'}"
      ]
     },
     "execution_count": 12,
     "metadata": {},
     "output_type": "execute_result"
    }
   ],
   "source": [
    "del ODD[9]\n",
    "ODD"
   ]
  },
  {
   "cell_type": "code",
   "execution_count": 16,
   "id": "3b672dc1",
   "metadata": {},
   "outputs": [
    {
     "name": "stdout",
     "output_type": "stream",
     "text": [
      "Enter the number of employees whose data to be stored: 2\n",
      "Enter the name of the Employee: Jarin\n",
      "Enter the salary: 10\n",
      "Enter the name of the Employee: Maruf\n",
      "Enter the salary: 5\n",
      "\n",
      "\n",
      "EMPLOYEE_NAME\tSALARY\n",
      "Jarin \t\t 10\n",
      "Maruf \t\t 5\n"
     ]
    }
   ],
   "source": [
    "num = int(input(\"Enter the number of employees whose data to be stored: \"))\n",
    "count = 1\n",
    "employee = dict()\n",
    "for count in range (num):\n",
    "    name = input(\"Enter the name of the Employee: \")\n",
    "    salary = int(input(\"Enter the salary: \"))\n",
    "    employee[name] = salary\n",
    "print(\"\\n\\nEMPLOYEE_NAME\\tSALARY\")\n",
    "for k in employee:\n",
    "    print(k, '\\t\\t', employee[k])"
   ]
  },
  {
   "cell_type": "code",
   "execution_count": null,
   "id": "80695c3e",
   "metadata": {},
   "outputs": [],
   "source": []
  },
  {
   "cell_type": "code",
   "execution_count": 18,
   "id": "fc97190e",
   "metadata": {},
   "outputs": [
    {
     "data": {
      "text/plain": [
       "array([10, 20, 30])"
      ]
     },
     "execution_count": 18,
     "metadata": {},
     "output_type": "execute_result"
    }
   ],
   "source": [
    "import numpy as np\n",
    "a = np.array([10,20,30])\n",
    "a"
   ]
  },
  {
   "cell_type": "code",
   "execution_count": 19,
   "id": "59642b9a",
   "metadata": {},
   "outputs": [
    {
     "data": {
      "text/plain": [
       "array([[10, 20, 30],\n",
       "       [40, 50, 60]])"
      ]
     },
     "execution_count": 19,
     "metadata": {},
     "output_type": "execute_result"
    }
   ],
   "source": [
    "import numpy as np\n",
    "a = np.array([[10,20,30], [40, 50, 60]])\n",
    "a"
   ]
  },
  {
   "cell_type": "code",
   "execution_count": 22,
   "id": "57737872",
   "metadata": {},
   "outputs": [
    {
     "data": {
      "text/plain": [
       "array([ 1.,  2.,  3.,  4.,  5.,  6.,  7.,  8.,  9., 10.])"
      ]
     },
     "execution_count": 22,
     "metadata": {},
     "output_type": "execute_result"
    }
   ],
   "source": [
    "ls = np.linspace(1, 10, 10)\n",
    "ls"
   ]
  },
  {
   "cell_type": "code",
   "execution_count": 24,
   "id": "f693ac33",
   "metadata": {},
   "outputs": [
    {
     "data": {
      "text/plain": [
       "array([[0., 0., 0., 0., 0.],\n",
       "       [0., 0., 0., 0., 0.],\n",
       "       [0., 0., 0., 0., 0.],\n",
       "       [0., 0., 0., 0., 0.],\n",
       "       [0., 0., 0., 0., 0.]])"
      ]
     },
     "execution_count": 24,
     "metadata": {},
     "output_type": "execute_result"
    }
   ],
   "source": [
    "np.zeros([5,5])"
   ]
  },
  {
   "cell_type": "code",
   "execution_count": 25,
   "id": "8f0b8fba",
   "metadata": {},
   "outputs": [
    {
     "data": {
      "text/plain": [
       "array([[1., 1., 1., 1., 1.],\n",
       "       [1., 1., 1., 1., 1.],\n",
       "       [1., 1., 1., 1., 1.],\n",
       "       [1., 1., 1., 1., 1.],\n",
       "       [1., 1., 1., 1., 1.]])"
      ]
     },
     "execution_count": 25,
     "metadata": {},
     "output_type": "execute_result"
    }
   ],
   "source": [
    "np.ones([5,5])"
   ]
  },
  {
   "cell_type": "code",
   "execution_count": null,
   "id": "c657de19",
   "metadata": {},
   "outputs": [],
   "source": []
  }
 ],
 "metadata": {
  "kernelspec": {
   "display_name": "Python 3 (ipykernel)",
   "language": "python",
   "name": "python3"
  },
  "language_info": {
   "codemirror_mode": {
    "name": "ipython",
    "version": 3
   },
   "file_extension": ".py",
   "mimetype": "text/x-python",
   "name": "python",
   "nbconvert_exporter": "python",
   "pygments_lexer": "ipython3",
   "version": "3.11.7"
  }
 },
 "nbformat": 4,
 "nbformat_minor": 5
}
